{
 "cells": [
  {
   "cell_type": "markdown",
   "metadata": {},
   "source": [
    "# Introduction"
   ]
  },
  {
   "cell_type": "code",
   "execution_count": 1,
   "metadata": {
    "tags": []
   },
   "outputs": [],
   "source": [
    "import ipynao"
   ]
  },
  {
   "cell_type": "code",
   "execution_count": 2,
   "metadata": {
    "tags": []
   },
   "outputs": [
    {
     "data": {
      "application/vnd.jupyter.widget-view+json": {
       "model_id": "e6ac765788334392a452c80f976dd496",
       "version_major": 2,
       "version_minor": 0
      },
      "text/plain": [
       "NaoRobotWidget()"
      ]
     },
     "execution_count": 2,
     "metadata": {},
     "output_type": "execute_result"
    }
   ],
   "source": [
    "w = ipynao.NaoRobotWidget()\n",
    "w"
   ]
  },
  {
   "cell_type": "markdown",
   "metadata": {},
   "source": [
    "### Test random services"
   ]
  },
  {
   "cell_type": "code",
   "execution_count": 3,
   "metadata": {
    "tags": []
   },
   "outputs": [],
   "source": [
    "srv = w.service(\"helloThere\")"
   ]
  },
  {
   "cell_type": "code",
   "execution_count": 6,
   "metadata": {
    "tags": []
   },
   "outputs": [
    {
     "data": {
      "text/plain": [
       "{'command': 'callService',\n",
       " 'service': 'helloThere',\n",
       " 'method': 'say',\n",
       " 'args': ('something', 3, 'or', True),\n",
       " 'kwargs': {'p': 'sunshine'}}"
      ]
     },
     "execution_count": 6,
     "metadata": {},
     "output_type": "execute_result"
    }
   ],
   "source": [
    "srv.say(\"something\", 3, \"or\", True, p=\"sunshine\")"
   ]
  },
  {
   "cell_type": "code",
   "execution_count": null,
   "metadata": {
    "tags": []
   },
   "outputs": [],
   "source": [
    "tst = await w.wait_for_me(3)\n",
    "print(\"hi\")\n",
    "print(tst)"
   ]
  },
  {
   "cell_type": "code",
   "execution_count": null,
   "metadata": {
    "tags": []
   },
   "outputs": [],
   "source": [
    "print(tst)"
   ]
  },
  {
   "cell_type": "code",
   "execution_count": null,
   "metadata": {
    "tags": []
   },
   "outputs": [],
   "source": [
    "w.testing()"
   ]
  },
  {
   "cell_type": "code",
   "execution_count": null,
   "metadata": {},
   "outputs": [],
   "source": [
    "w.connect(\"nao.local\")"
   ]
  },
  {
   "cell_type": "code",
   "execution_count": null,
   "metadata": {
    "tags": []
   },
   "outputs": [],
   "source": [
    "w.ALTextToSpeech(\"what do robot dogs do?\")"
   ]
  },
  {
   "cell_type": "code",
   "execution_count": null,
   "metadata": {},
   "outputs": [],
   "source": [
    "w.ALTextToSpeech(\"they byte!\")"
   ]
  },
  {
   "cell_type": "code",
   "execution_count": null,
   "metadata": {},
   "outputs": [],
   "source": [
    "w.ALLeds(4.0)"
   ]
  },
  {
   "cell_type": "code",
   "execution_count": null,
   "metadata": {
    "tags": []
   },
   "outputs": [],
   "source": [
    "w.ALMotion()"
   ]
  },
  {
   "cell_type": "code",
   "execution_count": null,
   "metadata": {},
   "outputs": [],
   "source": [
    "from asyncio import Future\n",
    "from time import sleep\n",
    "\n",
    "def wait_for_change(t):\n",
    "    print(\"creating future\")\n",
    "    future = Future()\n",
    "    \n",
    "    print(\"sleeping\")\n",
    "    sleep(3)\n",
    "    \n",
    "    print(\"setting result\")\n",
    "    future.set_result(\"time machine\")\n",
    "    \n",
    "    print(\"returning future\")\n",
    "    return future\n",
    "\n",
    "async def wait_for_me(t):\n",
    "    print(\"2 starting to wait\")\n",
    "    await wait_for_change(t)\n",
    "    print(\"returning the wait\")\n",
    "    return \"something\"\n",
    "    "
   ]
  },
  {
   "cell_type": "code",
   "execution_count": null,
   "metadata": {
    "tags": []
   },
   "outputs": [],
   "source": [
    "await wait_for_me(3)"
   ]
  },
  {
   "cell_type": "code",
   "execution_count": null,
   "metadata": {},
   "outputs": [],
   "source": []
  },
  {
   "cell_type": "code",
   "execution_count": null,
   "metadata": {},
   "outputs": [],
   "source": [
    "def send_msg(service, method, *args, **kwargs):\n",
    "    data = {}\n",
    "    data[\"service\"] = service\n",
    "    data[\"method\"] = method\n",
    "    data[\"args\"] = args\n",
    "    data[\"kwargs\"] = kwargs\n",
    "    print(\"message to send\")\n",
    "    print(data)\n",
    "\n",
    "class someService():\n",
    "    name = None\n",
    "    def __init__(self, name):\n",
    "        self.name = name\n",
    "        \n",
    "    def __getattribute__(self, method_name):\n",
    "        if method_name[:1].isupper():\n",
    "            data = {}\n",
    "            data[\"service\"] = self.name\n",
    "            data[\"method\"] = method_name\n",
    "            print(\"here the message\")\n",
    "            print(data)\n",
    "            return lambda *x, **y: send_msg(self.name, method_name, *x, **y)\n",
    "        else:\n",
    "            raise AttributeError\n",
    "            "
   ]
  },
  {
   "cell_type": "code",
   "execution_count": null,
   "metadata": {
    "tags": []
   },
   "outputs": [],
   "source": [
    "tst = someService(\"eminem\")"
   ]
  },
  {
   "cell_type": "code",
   "execution_count": null,
   "metadata": {
    "tags": []
   },
   "outputs": [],
   "source": [
    "tst.ALTogether(\"hello\", \"hi\", 999, \"ho\", p=3)"
   ]
  },
  {
   "cell_type": "code",
   "execution_count": null,
   "metadata": {
    "tags": []
   },
   "outputs": [],
   "source": [
    "tst.REfljskdjfljs(\"sjdlfjls\")"
   ]
  },
  {
   "cell_type": "code",
   "execution_count": null,
   "metadata": {
    "tags": []
   },
   "outputs": [],
   "source": [
    "tst.lskjflsjdf(\"lskjdflsj\", \"hi\")"
   ]
  },
  {
   "cell_type": "code",
   "execution_count": null,
   "metadata": {},
   "outputs": [],
   "source": []
  }
 ],
 "metadata": {
  "kernelspec": {
   "display_name": "Python 3 (ipykernel)",
   "language": "python",
   "name": "python3"
  },
  "language_info": {
   "codemirror_mode": {
    "name": "ipython",
    "version": 3
   },
   "file_extension": ".py",
   "mimetype": "text/x-python",
   "name": "python",
   "nbconvert_exporter": "python",
   "pygments_lexer": "ipython3",
   "version": "3.11.3"
  }
 },
 "nbformat": 4,
 "nbformat_minor": 4
}
